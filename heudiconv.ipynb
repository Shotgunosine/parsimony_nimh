{
 "cells": [
  {
   "cell_type": "markdown",
   "metadata": {},
   "source": [
    "# Heudiconv: Convertind SALD into BIDS"
   ]
  },
  {
   "cell_type": "markdown",
   "metadata": {},
   "source": [
    "## Docker Setup"
   ]
  },
  {
   "cell_type": "markdown",
   "metadata": {},
   "source": [
    "Before running the following code, install these dependencies (created with a conda python=2.7 environment):\n",
    "1. pydicom\n",
    "```\n",
    "conda install -c conda-forge pydicom\n",
    "```\n",
    "2. dcmstack  \n",
    "```\n",
    "conda install -c conda-forge dcmstack\n",
    "```\n",
    "3. nipype\n",
    "```\n",
    "conda install -c conda-forge nipype\n",
    "```\n",
    "4. nibabel\n",
    "```\n",
    "conda install -c conda-forge nibabel\n",
    "```\n",
    "5. dcm2niix\n",
    "```\n",
    "pip install --upgrade https://github.com/nipy/nipype/archive/master.zip\n",
    "```"
   ]
  },
  {
   "cell_type": "code",
   "execution_count": 2,
   "metadata": {},
   "outputs": [
    {
     "name": "stdout",
     "output_type": "stream",
     "text": [
      "  % Total    % Received % Xferd  Average Speed   Time    Time     Time  Current\n",
      "                                 Dload  Upload   Total   Spent    Left  Speed\n",
      "100 83178  100 83178    0     0  42780      0  0:00:01  0:00:01 --:--:-- 61385\n"
     ]
    }
   ],
   "source": [
    "!curl -O https://raw.githubusercontent.com/nipy/heudiconv/master/bin/heudiconv"
   ]
  },
  {
   "cell_type": "code",
   "execution_count": 3,
   "metadata": {
    "collapsed": true
   },
   "outputs": [],
   "source": [
    "!chmod +x heudiconv"
   ]
  },
  {
   "cell_type": "code",
   "execution_count": 4,
   "metadata": {
    "collapsed": true
   },
   "outputs": [],
   "source": [
    "from nipype.interfaces.dcm2nii import Dcm2niix"
   ]
  }
 ],
 "metadata": {
  "kernelspec": {
   "display_name": "Python 2",
   "language": "python",
   "name": "python2"
  },
  "language_info": {
   "codemirror_mode": {
    "name": "ipython",
    "version": 2
   },
   "file_extension": ".py",
   "mimetype": "text/x-python",
   "name": "python",
   "nbconvert_exporter": "python",
   "pygments_lexer": "ipython2",
   "version": "2.7.13"
  }
 },
 "nbformat": 4,
 "nbformat_minor": 2
}
