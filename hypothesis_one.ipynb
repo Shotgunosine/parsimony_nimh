{
 "cells": [
  {
   "cell_type": "markdown",
   "metadata": {},
   "source": [
    "# Hypothesis 1"
   ]
  },
  {
   "cell_type": "markdown",
   "metadata": {},
   "source": [
    "### Hypothesis"
   ]
  },
  {
   "cell_type": "markdown",
   "metadata": {},
   "source": [
    "If the distribution of ages in training and test sets is causing the poor generalizability of both complex and simple models, then both simple and complex models trained on datasets with similar age distributions to our original training dataset will perform worse than chance when tested on samples from new datasets that mimic the age distribution of our original test dataset."
   ]
  },
  {
   "cell_type": "markdown",
   "metadata": {},
   "source": [
    "### Analysis Plan"
   ]
  },
  {
   "cell_type": "markdown",
   "metadata": {},
   "source": [
    "In our original study, the NNDSP data was our training data and the HCP dataset was our test data. We will randomly resample subjects from the NKI, CORRS and SALD datasets to produce synthetic datasets matching the age distribution of the NNDSP and HCP datasets. This will give us a total of 6 resampled datasets: \n",
    "\n",
    "1. NKI:NNDSP\n",
    "2. CORRS:NNDSP\n",
    "3. SALD: NNDSP\n",
    "4. NKI:HCP\n",
    "5. CORRS:HCP\n",
    "6. SALD:HCP\n",
    "\n",
    "We will train the simple and complex models on the the two synthetic NNDSP datasets and original NNDSP dataset and test the performance of both models vs chance prediction on the synthetic datasets matching the distribution of the HCP data, as well as the HCP data itself. This will be the new pairs of training and test data: \n",
    "\n",
    "&nbsp;&nbsp;&nbsp;&nbsp;&nbsp;&nbsp;Train: &nbsp;&nbsp;&nbsp;&nbsp;&nbsp;&nbsp; Test:\n",
    "1. NNDSP         &nbsp;&nbsp;       HCP           [This is the analysis from our original preregistered study]\n",
    "2. NNDSP&nbsp;&nbsp;NKI:HCP\n",
    "3. NNDSP&nbsp;&nbsp;CORRS:HCP\n",
    "4. NNDSP&nbsp;&nbsp;SALD: HCP\n",
    "\n",
    "\n",
    "\n",
    "5. NKI:NNDSP&nbsp;&nbsp;HCP\n",
    "6. NKI:NNDSP&nbsp;&nbsp;CORRS:HCP\n",
    "7. NKI: NNDSP&nbsp;&nbsp;SALD: HCP\n",
    "\n",
    "\n",
    "\n",
    "8. CORRS:NNDSP&nbsp;&nbsp;HCP\n",
    "9. CORRS:NNDSP&nbsp;&nbsp;NKI:HCP\n",
    "10. CORRS:NNDSP&nbsp;&nbsp;SALD:HCP\n",
    "\n",
    "\n",
    "\n",
    "11. SALD:NNDSP&nbsp;&nbsp;&nbsp;HCP\n",
    "12. SALD:NNDSP&nbsp;&nbsp;&nbsp;CORRS:HCP\n",
    "13. SALD:NNDSP&nbsp;&nbsp;&nbsp;NKI:HCP\n",
    "\n",
    "\n",
    "\n",
    "We will test model performance vs chance by randomly picking ages (with replacement) for each subject from the set of ages of all subjects within the dataset. We will then compute the mean absolute error of the random age prediction to the real ages of the subject. We will repeat this procedure 1000 times, giving us a distribution of mean absolute errors of random age predictions. "
   ]
  },
  {
   "cell_type": "markdown",
   "metadata": {},
   "source": [
    "## Functions"
   ]
  },
  {
   "cell_type": "code",
   "execution_count": 1,
   "metadata": {
    "collapsed": true
   },
   "outputs": [],
   "source": [
    "def get_bucket_dist(data, label, bucket_size=5, to_print=True):\n",
    "    import math\n",
    "    \n",
    "    # create an array that holds the counts of different age groups in bucket_size \n",
    "    arr = [];\n",
    "    for x in range(0,100,bucket_size):\n",
    "        arr.append(0)\n",
    "    \n",
    "    # go through the data, look at each age and update counter for that age group\n",
    "    for x in data[label]:\n",
    "            index = math.floor(x/5)\n",
    "            arr[index] = arr[index] + 1;\n",
    "\n",
    "    if to_print:\n",
    "        age = 0;\n",
    "        # print the array\n",
    "        for x in arr:\n",
    "            print(str(age) + \"-\" + str(age+bucket_size), \": \", x)\n",
    "            age = age + bucket_size\n",
    "    \n",
    "    return arr"
   ]
  },
  {
   "cell_type": "code",
   "execution_count": 2,
   "metadata": {
    "collapsed": true
   },
   "outputs": [],
   "source": [
    "def find_new_dist_len(len_df, age_dist, len_df_from, age_dist_from):\n",
    "    new_len = len_df\n",
    "\n",
    "    for precision in np.arange(1, 0, -0.2):\n",
    "        new_len = len_df\n",
    "        for i in range(len(age_dist)):\n",
    "            if age_dist[i] < (new_len*age_dist_from[i]/len_df_from)*precision:\n",
    "                if age_dist[i] != 0:\n",
    "                    new_len = math.floor(age_dist[i]*len_df_from/age_dist_from[i])\n",
    "                else:\n",
    "                    new_len = new_len - (new_len*age_dist_from[i]/len_df_from)\n",
    "        if new_len >= 50:\n",
    "            break\n",
    "            \n",
    "    return new_len"
   ]
  },
  {
   "cell_type": "code",
   "execution_count": 3,
   "metadata": {
    "collapsed": true
   },
   "outputs": [],
   "source": [
    "def df_from_dist(df, age_label, subj_label, age_dist, \n",
    "                 df_from, age_dist_from, \n",
    "                 minimum = 0, maximum = 100, bucket_size = 5, min_percentage = 1):\n",
    "    \n",
    "    df_new = pd.DataFrame([])\n",
    "    index = 0\n",
    "    i = 0\n",
    "    rand_subj = []\n",
    "    # calculate the size of the new dataset that would allow for the same distribution as the dataset being mimicked\n",
    "    df_new_length = find_new_dist_len(len(df), age_dist, len(df_from), age_dist_from)\n",
    "    \n",
    "    # go through the number of subjects in the age range of the resampling data\n",
    "    for x in np.arange(minimum, maximum, bucket_size):\n",
    "        subj_bucket = []\n",
    "        \n",
    "        # get all the subjects in the age range of the resampling data\n",
    "        for j in range(age_dist[i]):\n",
    "            subj_bucket.append((df[subj_label])[index+j])\n",
    "            \n",
    "        index = index + age_dist[i]\n",
    "        \n",
    "        # get the number of subjects in the data that is being mimicked\n",
    "        num_rand = math.floor(df_new_length * (age_dist_from[i]/len(df_from)))\n",
    "        \n",
    "        if not len(subj_bucket) == 0:\n",
    "            # choose random subjects from subject bucket\n",
    "            # the number of random subjects chosen depends on the distributions\n",
    "            rand_subj = []\n",
    "            \n",
    "            if age_dist[i] < num_rand:\n",
    "                rand_subj = np.random.choice(subj_bucket, size=age_dist[i], replace=False)\n",
    "            else:\n",
    "                rand_subj = np.random.choice(subj_bucket, size=num_rand, replace=False)\n",
    "        \n",
    "        for sub in rand_subj:\n",
    "                df_new = pd.concat([df_new, df[df[subj_label] == sub]])\n",
    "\n",
    "                \n",
    "        # increment index for age distribution array\n",
    "        i = i+1\n",
    "    \n",
    "    return df_new"
   ]
  },
  {
   "cell_type": "code",
   "execution_count": 4,
   "metadata": {
    "collapsed": true
   },
   "outputs": [],
   "source": [
    "def num_bins(data, age_label):\n",
    "    return math.floor((max(data[age_label]) - min(data[age_label]))/5)"
   ]
  },
  {
   "cell_type": "markdown",
   "metadata": {},
   "source": [
    "## Setup"
   ]
  },
  {
   "cell_type": "code",
   "execution_count": 5,
   "metadata": {
    "collapsed": true
   },
   "outputs": [],
   "source": [
    "import os\n",
    "from pathlib import Path\n",
    "import pandas as pd\n",
    "import numpy as np\n",
    "from matplotlib import pyplot\n",
    "import seaborn as sns\n",
    "import math"
   ]
  },
  {
   "cell_type": "code",
   "execution_count": 6,
   "metadata": {
    "collapsed": true
   },
   "outputs": [],
   "source": [
    "# working directory\n",
    "working_dir = Path('/home/ubuntu')\n",
    "\n",
    "# phenotype files\n",
    "phenotype_dir = working_dir.joinpath('phenotype_files')\n",
    "\n",
    "# nndsp phenotype file\n",
    "nndsp_phenoFile = phenotype_dir.joinpath('NNDSP_famid.csv')\n",
    "# hcp phenotype file\n",
    "hcp_phenoFile = phenotype_dir.joinpath('hcp_900_behaviroural_data.csv')\n",
    "# nki phenotype fil\n",
    "nki_phenoFile = phenotype_dir.joinpath('participants.tsv')\n",
    "# corrs phenotype file\n",
    "corrs_phenoFile = phenotype_dir.joinpath('corr.csv')\n",
    "# sald phenotype file\n",
    "sald_phenoFile = phenotype_dir.joinpath('sald.xlsx')"
   ]
  },
  {
   "cell_type": "markdown",
   "metadata": {},
   "source": [
    "## NNDSP Data "
   ]
  },
  {
   "cell_type": "code",
   "execution_count": 7,
   "metadata": {
    "collapsed": true
   },
   "outputs": [],
   "source": [
    "nndsp_pheno = pd.read_csv(nndsp_phenoFile)"
   ]
  },
  {
   "cell_type": "code",
   "execution_count": 8,
   "metadata": {},
   "outputs": [
    {
     "data": {
      "text/html": [
       "<div>\n",
       "<style>\n",
       "    .dataframe thead tr:only-child th {\n",
       "        text-align: right;\n",
       "    }\n",
       "\n",
       "    .dataframe thead th {\n",
       "        text-align: left;\n",
       "    }\n",
       "\n",
       "    .dataframe tbody tr th {\n",
       "        vertical-align: top;\n",
       "    }\n",
       "</style>\n",
       "<table border=\"1\" class=\"dataframe\">\n",
       "  <thead>\n",
       "    <tr style=\"text-align: right;\">\n",
       "      <th></th>\n",
       "      <th>MASKID</th>\n",
       "      <th>age_at_scan</th>\n",
       "    </tr>\n",
       "  </thead>\n",
       "  <tbody>\n",
       "    <tr>\n",
       "      <th>0</th>\n",
       "      <td>1973</td>\n",
       "      <td>5.262149</td>\n",
       "    </tr>\n",
       "    <tr>\n",
       "      <th>1</th>\n",
       "      <td>150</td>\n",
       "      <td>5.382615</td>\n",
       "    </tr>\n",
       "    <tr>\n",
       "      <th>2</th>\n",
       "      <td>1698</td>\n",
       "      <td>5.401780</td>\n",
       "    </tr>\n",
       "    <tr>\n",
       "      <th>3</th>\n",
       "      <td>1573</td>\n",
       "      <td>5.686516</td>\n",
       "    </tr>\n",
       "    <tr>\n",
       "      <th>4</th>\n",
       "      <td>646</td>\n",
       "      <td>5.702943</td>\n",
       "    </tr>\n",
       "  </tbody>\n",
       "</table>\n",
       "</div>"
      ],
      "text/plain": [
       "   MASKID  age_at_scan\n",
       "0    1973     5.262149\n",
       "1     150     5.382615\n",
       "2    1698     5.401780\n",
       "3    1573     5.686516\n",
       "4     646     5.702943"
      ]
     },
     "execution_count": 8,
     "metadata": {},
     "output_type": "execute_result"
    }
   ],
   "source": [
    "nndsp_pheno = nndsp_pheno[['MASKID', 'age_at_scan']]\n",
    "nndsp_pheno.head()"
   ]
  },
  {
   "cell_type": "code",
   "execution_count": 9,
   "metadata": {},
   "outputs": [
    {
     "data": {
      "image/png": "[encoded data removed]",
      "text/plain": [
       "<matplotlib.figure.Figure at 0x7f9be320b978>"
      ]
     },
     "metadata": {},
     "output_type": "display_data"
    }
   ],
   "source": [
    "sns.distplot(nndsp_pheno.age_at_scan, bins = num_bins(nndsp_pheno, \"age_at_scan\"), axlabel=\"Age\")\n",
    "pyplot.show()"
   ]
  },
  {
   "cell_type": "markdown",
   "metadata": {},
   "source": [
    "## HCP Data"
   ]
  },
  {
   "cell_type": "code",
   "execution_count": 10,
   "metadata": {
    "collapsed": true
   },
   "outputs": [],
   "source": [
    "hcp_pheno = pd.read_csv(hcp_phenoFile)\n",
    "hcp_pheno = hcp_pheno[['Subject', 'Age']]"
   ]
  },
  {
   "cell_type": "code",
   "execution_count": 11,
   "metadata": {},
   "outputs": [],
   "source": [
    "est_age_list = [(int(x[0:x.find(\"-\")]) + int(x[x.find(\"-\")+1:]))/2 if x.find(\"-\") != -1 else 37 for x in hcp_pheno.Age]\n",
    "hcp_pheno['est_age'] = est_age_list"
   ]
  },
  {
   "cell_type": "code",
   "execution_count": 12,
   "metadata": {},
   "outputs": [
    {
     "data": {
      "text/html": [
       "<div>\n",
       "<style>\n",
       "    .dataframe thead tr:only-child th {\n",
       "        text-align: right;\n",
       "    }\n",
       "\n",
       "    .dataframe thead th {\n",
       "        text-align: left;\n",
       "    }\n",
       "\n",
       "    .dataframe tbody tr th {\n",
       "        vertical-align: top;\n",
       "    }\n",
       "</style>\n",
       "<table border=\"1\" class=\"dataframe\">\n",
       "  <thead>\n",
       "    <tr style=\"text-align: right;\">\n",
       "      <th></th>\n",
       "      <th>Subject</th>\n",
       "      <th>Age</th>\n",
       "      <th>est_age</th>\n",
       "    </tr>\n",
       "  </thead>\n",
       "  <tbody>\n",
       "    <tr>\n",
       "      <th>0</th>\n",
       "      <td>100004</td>\n",
       "      <td>22-25</td>\n",
       "      <td>23.5</td>\n",
       "    </tr>\n",
       "    <tr>\n",
       "      <th>1</th>\n",
       "      <td>156435</td>\n",
       "      <td>22-25</td>\n",
       "      <td>23.5</td>\n",
       "    </tr>\n",
       "    <tr>\n",
       "      <th>2</th>\n",
       "      <td>156536</td>\n",
       "      <td>22-25</td>\n",
       "      <td>23.5</td>\n",
       "    </tr>\n",
       "    <tr>\n",
       "      <th>3</th>\n",
       "      <td>158338</td>\n",
       "      <td>22-25</td>\n",
       "      <td>23.5</td>\n",
       "    </tr>\n",
       "    <tr>\n",
       "      <th>4</th>\n",
       "      <td>160729</td>\n",
       "      <td>22-25</td>\n",
       "      <td>23.5</td>\n",
       "    </tr>\n",
       "  </tbody>\n",
       "</table>\n",
       "</div>"
      ],
      "text/plain": [
       "   Subject    Age  est_age\n",
       "0   100004  22-25     23.5\n",
       "1   156435  22-25     23.5\n",
       "2   156536  22-25     23.5\n",
       "3   158338  22-25     23.5\n",
       "4   160729  22-25     23.5"
      ]
     },
     "execution_count": 12,
     "metadata": {},
     "output_type": "execute_result"
    }
   ],
   "source": [
    "hcp_pheno = hcp_pheno.sort_values(by=\"est_age\")\n",
    "hcp_pheno = hcp_pheno.set_index([np.arange(0, len(hcp_pheno))])\n",
    "hcp_pheno.head()"
   ]
  },
  {
   "cell_type": "code",
   "execution_count": 13,
   "metadata": {},
   "outputs": [
    {
     "data": {
      "image/png": "[encoded data removed]",
      "text/plain": [
       "<matplotlib.figure.Figure at 0x7f9bdb37d550>"
      ]
     },
     "metadata": {},
     "output_type": "display_data"
    }
   ],
   "source": [
    "sns.distplot(hcp_pheno.est_age, bins = num_bins(hcp_pheno, \"est_age\"), axlabel=\"Age\")\n",
    "pyplot.show()"
   ]
  },
  {
   "cell_type": "markdown",
   "metadata": {},
   "source": [
    "## Resampling NKI"
   ]
  },
  {
   "cell_type": "code",
   "execution_count": 14,
   "metadata": {
    "collapsed": true
   },
   "outputs": [],
   "source": [
    "nki_pheno = pd.read_csv(nki_phenoFile, sep='\\t')"
   ]
  },
  {
   "cell_type": "code",
   "execution_count": 15,
   "metadata": {},
   "outputs": [
    {
     "data": {
      "text/html": [
       "<div>\n",
       "<style>\n",
       "    .dataframe thead tr:only-child th {\n",
       "        text-align: right;\n",
       "    }\n",
       "\n",
       "    .dataframe thead th {\n",
       "        text-align: left;\n",
       "    }\n",
       "\n",
       "    .dataframe tbody tr th {\n",
       "        vertical-align: top;\n",
       "    }\n",
       "</style>\n",
       "<table border=\"1\" class=\"dataframe\">\n",
       "  <thead>\n",
       "    <tr style=\"text-align: right;\">\n",
       "      <th></th>\n",
       "      <th>participant_id</th>\n",
       "      <th>age</th>\n",
       "    </tr>\n",
       "  </thead>\n",
       "  <tbody>\n",
       "    <tr>\n",
       "      <th>0</th>\n",
       "      <td>62349</td>\n",
       "      <td>6.0</td>\n",
       "    </tr>\n",
       "    <tr>\n",
       "      <th>1</th>\n",
       "      <td>51691</td>\n",
       "      <td>6.0</td>\n",
       "    </tr>\n",
       "    <tr>\n",
       "      <th>2</th>\n",
       "      <td>56020</td>\n",
       "      <td>6.0</td>\n",
       "    </tr>\n",
       "    <tr>\n",
       "      <th>3</th>\n",
       "      <td>65185</td>\n",
       "      <td>6.0</td>\n",
       "    </tr>\n",
       "    <tr>\n",
       "      <th>4</th>\n",
       "      <td>40117</td>\n",
       "      <td>6.0</td>\n",
       "    </tr>\n",
       "  </tbody>\n",
       "</table>\n",
       "</div>"
      ],
      "text/plain": [
       "   participant_id  age\n",
       "0           62349  6.0\n",
       "1           51691  6.0\n",
       "2           56020  6.0\n",
       "3           65185  6.0\n",
       "4           40117  6.0"
      ]
     },
     "execution_count": 15,
     "metadata": {},
     "output_type": "execute_result"
    }
   ],
   "source": [
    "nki_pheno = nki_pheno[['participant_id', 'age']]\n",
    "nki_pheno.participant_id = [int(x[1:]) for x in nki_pheno.participant_id]\n",
    "nki_pheno = nki_pheno.sort_values(by='age')\n",
    "nki_pheno = nki_pheno.set_index([np.arange(0, len(nki_pheno))])\n",
    "nki_pheno.head()"
   ]
  },
  {
   "cell_type": "code",
   "execution_count": 16,
   "metadata": {},
   "outputs": [
    {
     "data": {
      "image/png": "[encoded data removed]",
      "text/plain": [
       "<matplotlib.figure.Figure at 0x7f9bdb3a9898>"
      ]
     },
     "metadata": {},
     "output_type": "display_data"
    }
   ],
   "source": [
    "sns.distplot(nki_pheno.age, bins = num_bins(nki_pheno, \"age\"), axlabel=\"Age\")\n",
    "pyplot.show()"
   ]
  },
  {
   "cell_type": "markdown",
   "metadata": {},
   "source": [
    "### NKI:NNDSP"
   ]
  },
  {
   "cell_type": "code",
   "execution_count": 17,
   "metadata": {},
   "outputs": [
    {
     "data": {
      "image/png": "[encoded data removed]",
      "text/plain": [
       "<matplotlib.figure.Figure at 0x7f9be31d1f98>"
      ]
     },
     "metadata": {},
     "output_type": "display_data"
    }
   ],
   "source": [
    "sns.distplot(nki_pheno.age, bins = num_bins(nki_pheno, \"age\"), axlabel=\"Age\", label = \"NKI\")\n",
    "sns.distplot(nndsp_pheno.age_at_scan, bins = num_bins(nndsp_pheno, \"age_at_scan\"), axlabel=\"Age\", label = \"NNDSP\")\n",
    "pyplot.legend()\n",
    "pyplot.show()"
   ]
  },
  {
   "cell_type": "code",
   "execution_count": 18,
   "metadata": {
    "collapsed": true
   },
   "outputs": [],
   "source": [
    "nki_dist = get_bucket_dist(nki_pheno, \"age\", to_print=False)\n",
    "nndsp_dist = get_bucket_dist(nndsp_pheno, \"age_at_scan\", to_print=False)"
   ]
  },
  {
   "cell_type": "code",
   "execution_count": 19,
   "metadata": {},
   "outputs": [],
   "source": [
    "df_dist_nki = df_from_dist(nki_pheno, \"age\", \"participant_id\", nki_dist, nndsp_pheno, nndsp_dist)\n",
    "df_dist_nki = df_dist_nki.sort_values(by='age')"
   ]
  },
  {
   "cell_type": "code",
   "execution_count": 20,
   "metadata": {},
   "outputs": [
    {
     "data": {
      "text/html": [
       "<div>\n",
       "<style>\n",
       "    .dataframe thead tr:only-child th {\n",
       "        text-align: right;\n",
       "    }\n",
       "\n",
       "    .dataframe thead th {\n",
       "        text-align: left;\n",
       "    }\n",
       "\n",
       "    .dataframe tbody tr th {\n",
       "        vertical-align: top;\n",
       "    }\n",
       "</style>\n",
       "<table border=\"1\" class=\"dataframe\">\n",
       "  <thead>\n",
       "    <tr style=\"text-align: right;\">\n",
       "      <th></th>\n",
       "      <th>participant_id</th>\n",
       "      <th>age</th>\n",
       "    </tr>\n",
       "  </thead>\n",
       "  <tbody>\n",
       "    <tr>\n",
       "      <th>13</th>\n",
       "      <td>32008</td>\n",
       "      <td>6.0</td>\n",
       "    </tr>\n",
       "    <tr>\n",
       "      <th>3</th>\n",
       "      <td>65185</td>\n",
       "      <td>6.0</td>\n",
       "    </tr>\n",
       "    <tr>\n",
       "      <th>2</th>\n",
       "      <td>56020</td>\n",
       "      <td>6.0</td>\n",
       "    </tr>\n",
       "    <tr>\n",
       "      <th>10</th>\n",
       "      <td>59734</td>\n",
       "      <td>6.0</td>\n",
       "    </tr>\n",
       "    <tr>\n",
       "      <th>5</th>\n",
       "      <td>55832</td>\n",
       "      <td>6.0</td>\n",
       "    </tr>\n",
       "  </tbody>\n",
       "</table>\n",
       "</div>"
      ],
      "text/plain": [
       "    participant_id  age\n",
       "13           32008  6.0\n",
       "3            65185  6.0\n",
       "2            56020  6.0\n",
       "10           59734  6.0\n",
       "5            55832  6.0"
      ]
     },
     "execution_count": 20,
     "metadata": {},
     "output_type": "execute_result"
    }
   ],
   "source": [
    "df_dist_nki.head()"
   ]
  },
  {
   "cell_type": "code",
   "execution_count": 23,
   "metadata": {},
   "outputs": [
    {
     "data": {
      "image/png": "[encoded data removed]",
      "text/plain": [
       "<matplotlib.figure.Figure at 0x7f9bdb159c18>"
      ]
     },
     "metadata": {},
     "output_type": "display_data"
    }
   ],
   "source": [
    "sns.distplot(df_dist_nki.age)\n",
    "sns.distplot(nndsp_pheno.age_at_scan, bins = num_bins(nndsp_pheno, \"age_at_scan\"), axlabel=\"Age\", label = \"NNDSP\")\n",
    "pyplot.show()"
   ]
  },
  {
   "cell_type": "markdown",
   "metadata": {},
   "source": [
    "### NKI:HCP"
   ]
  },
  {
   "cell_type": "code",
   "execution_count": 24,
   "metadata": {},
   "outputs": [
    {
     "data": {
      "image/png": "[encoded data removed]",
      "text/plain": [
       "<matplotlib.figure.Figure at 0x7f9bdb0f39e8>"
      ]
     },
     "metadata": {},
     "output_type": "display_data"
    }
   ],
   "source": [
    "sns.distplot(nki_pheno.age, bins = num_bins(nki_pheno, \"age\"), axlabel=\"Age\", label = \"NKI\")\n",
    "sns.distplot(hcp_pheno.est_age, bins = num_bins(hcp_pheno, \"est_age\"), axlabel=\"Age\", label = \"HCP\")\n",
    "pyplot.legend()\n",
    "pyplot.show()"
   ]
  },
  {
   "cell_type": "code",
   "execution_count": 25,
   "metadata": {},
   "outputs": [],
   "source": [
    "nki_dist = get_bucket_dist(nki_pheno, \"age\", to_print=False)\n",
    "hcp_dist = get_bucket_dist(hcp_pheno, \"est_age\", to_print=False)"
   ]
  },
  {
   "cell_type": "code",
   "execution_count": 26,
   "metadata": {},
   "outputs": [],
   "source": [
    "dist_nki_hcp = df_from_dist(nki_pheno, \"age\", \"participant_id\", nki_dist, hcp_pheno, hcp_dist)\n",
    "dist_nki_hcp = df_dist_nki.sort_values(by='age')"
   ]
  },
  {
   "cell_type": "code",
   "execution_count": 27,
   "metadata": {},
   "outputs": [
    {
     "data": {
      "image/png": "[encoded data removed]",
      "text/plain": [
       "<matplotlib.figure.Figure at 0x7f9bdb0617b8>"
      ]
     },
     "metadata": {},
     "output_type": "display_data"
    }
   ],
   "source": [
    "sns.distplot(dist_nki_hcp.age)\n",
    "sns.distplot(hcp_pheno.est_age, bins = num_bins(hcp_pheno, \"est_age\"), axlabel=\"Age\", label = \"HCP\")\n",
    "pyplot.show()"
   ]
  },
  {
   "cell_type": "markdown",
   "metadata": {},
   "source": [
    "## Resampling CORRS"
   ]
  },
  {
   "cell_type": "code",
   "execution_count": null,
   "metadata": {
    "collapsed": true
   },
   "outputs": [],
   "source": [
    "corrs_pheno = pd.read_csv(corrs_phenoFile)"
   ]
  },
  {
   "cell_type": "code",
   "execution_count": null,
   "metadata": {},
   "outputs": [],
   "source": [
    "corrs_pheno = corrs_pheno[[\"SUBID\", \"AGE_AT_SCAN_1\"]]\n",
    "corrs_pheno = corrs_pheno.drop_duplicates()\n",
    "corrs_pheno = corrs_pheno[corrs_pheno.AGE_AT_SCAN_1 != \"NoPhenotypicData\"]\n",
    "corrs_pheno = corrs_pheno[corrs_pheno.AGE_AT_SCAN_1 != \"#\"]\n",
    "corrs_pheno.AGE_AT_SCAN_1 = [float(x) for x in corrs_pheno.AGE_AT_SCAN_1]\n",
    "corrs_pheno = corrs_pheno.sort_values(by=\"AGE_AT_SCAN_1\")\n",
    "corrs_pheno = corrs_pheno.set_index([np.arange(0, len(corrs_pheno))])\n",
    "corrs_pheno.head()"
   ]
  },
  {
   "cell_type": "code",
   "execution_count": null,
   "metadata": {},
   "outputs": [],
   "source": [
    "sns.distplot(corrs_pheno.AGE_AT_SCAN_1, bins = num_bins(corrs_pheno, \"AGE_AT_SCAN_1\"), axlabel=\"Age\")\n",
    "pyplot.show()"
   ]
  },
  {
   "cell_type": "markdown",
   "metadata": {},
   "source": [
    "### CORRS:NNDSP"
   ]
  },
  {
   "cell_type": "code",
   "execution_count": null,
   "metadata": {
    "collapsed": true
   },
   "outputs": [],
   "source": [
    "corrs_dist = get_bucket_dist(corrs_pheno, \"AGE_AT_SCAN_1\", to_print=False)\n",
    "nndsp_dist = get_bucket_dist(nndsp_pheno, \"age_at_scan\", to_print=False)"
   ]
  },
  {
   "cell_type": "code",
   "execution_count": null,
   "metadata": {},
   "outputs": [],
   "source": [
    "df_dist_corrs = df_from_dist(corrs_pheno, \"AGE_AT_SCAN_1\", \"SUBID\", corrs_dist, nndsp_pheno, nndsp_dist)\n",
    "df_dist_corrs = df_dist_corrs.sort_values(by='AGE_AT_SCAN_1')"
   ]
  },
  {
   "cell_type": "code",
   "execution_count": null,
   "metadata": {},
   "outputs": [],
   "source": [
    "df_dist_corrs.head()"
   ]
  },
  {
   "cell_type": "code",
   "execution_count": null,
   "metadata": {},
   "outputs": [],
   "source": [
    "sns.distplot(df_dist_corrs.AGE_AT_SCAN_1)\n",
    "sns.distplot(nndsp_pheno.age_at_scan, bins = num_bins(nndsp_pheno, \"age_at_scan\"), axlabel=\"Age\", label = \"NNDSP\")\n",
    "pyplot.show()"
   ]
  },
  {
   "cell_type": "markdown",
   "metadata": {},
   "source": [
    "### CORRS:HCP"
   ]
  },
  {
   "cell_type": "markdown",
   "metadata": {},
   "source": [
    "## Resampling SALD"
   ]
  },
  {
   "cell_type": "code",
   "execution_count": null,
   "metadata": {
    "collapsed": true
   },
   "outputs": [],
   "source": [
    "sald_pheno = pd.read_excel(sald_phenoFile)"
   ]
  },
  {
   "cell_type": "code",
   "execution_count": null,
   "metadata": {},
   "outputs": [],
   "source": [
    "sald_pheno = sald_pheno[['Sub_ID', 'Age']]\n",
    "sald_pheno = sald_pheno.sort_values(by='Age')\n",
    "sald_pheno = sald_pheno.set_index([np.arange(0, len(sald_pheno))])\n",
    "sald_pheno.head()"
   ]
  },
  {
   "cell_type": "code",
   "execution_count": null,
   "metadata": {},
   "outputs": [],
   "source": [
    "sns.distplot(sald_pheno.Age, bins = num_bins(sald_pheno, \"Age\"), axlabel=\"Age\")\n",
    "pyplot.show()"
   ]
  },
  {
   "cell_type": "markdown",
   "metadata": {},
   "source": [
    "### SALD:NNDSP"
   ]
  },
  {
   "cell_type": "code",
   "execution_count": null,
   "metadata": {
    "collapsed": true
   },
   "outputs": [],
   "source": [
    "sald_dist = get_bucket_dist(sald_pheno, \"Age\", to_print=False)\n",
    "nndsp_dist = get_bucket_dist(nndsp_pheno, \"age_at_scan\", to_print=False)"
   ]
  },
  {
   "cell_type": "code",
   "execution_count": null,
   "metadata": {
    "collapsed": true
   },
   "outputs": [],
   "source": [
    "df_dist_sald = df_from_dist(sald_pheno, \"Age\", \"Sub_ID\", sald_dist, nndsp_pheno, nndsp_dist)\n",
    "df_dist_sald = df_dist_sald.sort_values(by=\"Age\")"
   ]
  },
  {
   "cell_type": "code",
   "execution_count": null,
   "metadata": {},
   "outputs": [],
   "source": [
    "sns.distplot(df_dist_sald.Age)\n",
    "sns.distplot(nndsp_pheno.age_at_scan, bins = num_bins(nndsp_pheno, \"age_at_scan\"), axlabel=\"Age\", label = \"NNDSP\")\n",
    "pyplot.show()"
   ]
  },
  {
   "cell_type": "markdown",
   "metadata": {},
   "source": [
    "### SALD:HCP"
   ]
  }
 ],
 "metadata": {
  "kernelspec": {
   "display_name": "Python 3",
   "language": "python",
   "name": "python3"
  },
  "language_info": {
   "codemirror_mode": {
    "name": "ipython",
    "version": 3
   },
   "file_extension": ".py",
   "mimetype": "text/x-python",
   "name": "python",
   "nbconvert_exporter": "python",
   "pygments_lexer": "ipython3",
   "version": "3.6.2"
  }
 },
 "nbformat": 4,
 "nbformat_minor": 2
}
